{
 "cells": [
  {
   "cell_type": "markdown",
   "id": "7c6c1330",
   "metadata": {},
   "source": [
    "# Assignment 3\n",
    "### Due 9/23. Do four of five."
   ]
  },
  {
   "cell_type": "code",
   "execution_count": 2,
   "id": "3bc064c6",
   "metadata": {},
   "outputs": [],
   "source": [
    "import numpy as np\n",
    "import pandas as pd\n",
    "import matplotlib.pyplot as plt\n",
    "import seaborn as sns"
   ]
  },
  {
   "cell_type": "markdown",
   "id": "c7761202",
   "metadata": {},
   "source": [
    "1. \n",
    "- Open the NHANES (or Ames prices or college completion datasets, if you prefer)\n",
    "- Find two categorical variables of interest (there are 198, and short descriptions are given in the `nhanes_meta_17_18.csv` file). Investigate their missing values (you don't have to focus on missing values for this analysis like we did with police use of force, but always be aware of how dirty the data are)\n",
    "- Compute a contingency table for your categorical $X$ and $Y$\n",
    "- Discuss any interesting patterns (or lack of one) that you observe"
   ]
  },
  {
   "cell_type": "code",
   "execution_count": null,
   "id": "48a2ff72",
   "metadata": {},
   "outputs": [
    {
     "name": "stderr",
     "output_type": "stream",
     "text": [
      "/var/folders/yb/69jvqn_52szfqjzyzmz2vk0h0000gn/T/ipykernel_9024/1829356728.py:1: DtypeWarning: Columns (142) have mixed types. Specify dtype option on import or set low_memory=False.\n",
      "  df = pd.read_csv('./data/nhanes_data_17_18.csv')\n"
     ]
    },
    {
     "data": {
      "text/html": [
       "<div>\n",
       "<style scoped>\n",
       "    .dataframe tbody tr th:only-of-type {\n",
       "        vertical-align: middle;\n",
       "    }\n",
       "\n",
       "    .dataframe tbody tr th {\n",
       "        vertical-align: top;\n",
       "    }\n",
       "\n",
       "    .dataframe thead th {\n",
       "        text-align: right;\n",
       "    }\n",
       "</style>\n",
       "<table border=\"1\" class=\"dataframe\">\n",
       "  <thead>\n",
       "    <tr style=\"text-align: right;\">\n",
       "      <th></th>\n",
       "      <th>SEQN</th>\n",
       "      <th>GeneralHealthCondition</th>\n",
       "      <th>EverBreastfedOrFedBreastmilk</th>\n",
       "      <th>AgeStoppedBreastfeedingdays</th>\n",
       "      <th>AgeFirstFedFormuladays</th>\n",
       "      <th>AgeStoppedReceivingFormuladays</th>\n",
       "      <th>AgeStartedOtherFoodbeverage</th>\n",
       "      <th>AgeFirstFedMilkdays</th>\n",
       "      <th>TypeOfMilkFirstFedWholeMilk</th>\n",
       "      <th>TypeOfMilkFirstFed2Milk</th>\n",
       "      <th>...</th>\n",
       "      <th>DaysSmokedCigsDuringPast30Days</th>\n",
       "      <th>AvgCigarettesdayDuringPast30Days</th>\n",
       "      <th>TriedToQuitSmoking</th>\n",
       "      <th>TimesStoppedSmokingCigarettes</th>\n",
       "      <th>HowLongWereYouAbleToStopSmoking</th>\n",
       "      <th>UnitOfMeasureDayweekmonthyear_2_SMQ</th>\n",
       "      <th>CurrentSelfreportedHeightInches</th>\n",
       "      <th>CurrentSelfreportedWeightPounds</th>\n",
       "      <th>TriedToLoseWeightInPastYear</th>\n",
       "      <th>TimesLost10LbsOrMoreToLoseWeight</th>\n",
       "    </tr>\n",
       "  </thead>\n",
       "  <tbody>\n",
       "    <tr>\n",
       "      <th>0</th>\n",
       "      <td>93703.0</td>\n",
       "      <td>NaN</td>\n",
       "      <td>1.0</td>\n",
       "      <td>273.0</td>\n",
       "      <td>1.0</td>\n",
       "      <td>365.0</td>\n",
       "      <td>152.0</td>\n",
       "      <td>365.0</td>\n",
       "      <td>Whole or regular milk</td>\n",
       "      <td>NaN</td>\n",
       "      <td>...</td>\n",
       "      <td>NaN</td>\n",
       "      <td>NaN</td>\n",
       "      <td>NaN</td>\n",
       "      <td>NaN</td>\n",
       "      <td>NaN</td>\n",
       "      <td>NaN</td>\n",
       "      <td>NaN</td>\n",
       "      <td>NaN</td>\n",
       "      <td>NaN</td>\n",
       "      <td>NaN</td>\n",
       "    </tr>\n",
       "    <tr>\n",
       "      <th>1</th>\n",
       "      <td>93704.0</td>\n",
       "      <td>NaN</td>\n",
       "      <td>1.0</td>\n",
       "      <td>60.0</td>\n",
       "      <td>3.0</td>\n",
       "      <td>365.0</td>\n",
       "      <td>126.0</td>\n",
       "      <td>365.0</td>\n",
       "      <td>Whole or regular milk</td>\n",
       "      <td>NaN</td>\n",
       "      <td>...</td>\n",
       "      <td>NaN</td>\n",
       "      <td>NaN</td>\n",
       "      <td>NaN</td>\n",
       "      <td>NaN</td>\n",
       "      <td>NaN</td>\n",
       "      <td>NaN</td>\n",
       "      <td>NaN</td>\n",
       "      <td>NaN</td>\n",
       "      <td>NaN</td>\n",
       "      <td>NaN</td>\n",
       "    </tr>\n",
       "    <tr>\n",
       "      <th>2</th>\n",
       "      <td>93705.0</td>\n",
       "      <td>Good</td>\n",
       "      <td>NaN</td>\n",
       "      <td>NaN</td>\n",
       "      <td>NaN</td>\n",
       "      <td>NaN</td>\n",
       "      <td>NaN</td>\n",
       "      <td>NaN</td>\n",
       "      <td>NaN</td>\n",
       "      <td>NaN</td>\n",
       "      <td>...</td>\n",
       "      <td>NaN</td>\n",
       "      <td>NaN</td>\n",
       "      <td>NaN</td>\n",
       "      <td>NaN</td>\n",
       "      <td>NaN</td>\n",
       "      <td>NaN</td>\n",
       "      <td>63.0</td>\n",
       "      <td>165.0</td>\n",
       "      <td>0.0</td>\n",
       "      <td>11 times or more</td>\n",
       "    </tr>\n",
       "    <tr>\n",
       "      <th>3</th>\n",
       "      <td>93706.0</td>\n",
       "      <td>Very good</td>\n",
       "      <td>NaN</td>\n",
       "      <td>NaN</td>\n",
       "      <td>NaN</td>\n",
       "      <td>NaN</td>\n",
       "      <td>NaN</td>\n",
       "      <td>NaN</td>\n",
       "      <td>NaN</td>\n",
       "      <td>NaN</td>\n",
       "      <td>...</td>\n",
       "      <td>NaN</td>\n",
       "      <td>NaN</td>\n",
       "      <td>NaN</td>\n",
       "      <td>NaN</td>\n",
       "      <td>NaN</td>\n",
       "      <td>NaN</td>\n",
       "      <td>68.0</td>\n",
       "      <td>145.0</td>\n",
       "      <td>0.0</td>\n",
       "      <td>Never</td>\n",
       "    </tr>\n",
       "    <tr>\n",
       "      <th>4</th>\n",
       "      <td>93707.0</td>\n",
       "      <td>Good</td>\n",
       "      <td>NaN</td>\n",
       "      <td>NaN</td>\n",
       "      <td>NaN</td>\n",
       "      <td>NaN</td>\n",
       "      <td>NaN</td>\n",
       "      <td>NaN</td>\n",
       "      <td>NaN</td>\n",
       "      <td>NaN</td>\n",
       "      <td>...</td>\n",
       "      <td>NaN</td>\n",
       "      <td>NaN</td>\n",
       "      <td>NaN</td>\n",
       "      <td>NaN</td>\n",
       "      <td>NaN</td>\n",
       "      <td>NaN</td>\n",
       "      <td>NaN</td>\n",
       "      <td>NaN</td>\n",
       "      <td>NaN</td>\n",
       "      <td>NaN</td>\n",
       "    </tr>\n",
       "  </tbody>\n",
       "</table>\n",
       "<p>5 rows × 198 columns</p>\n",
       "</div>"
      ],
      "text/plain": [
       "      SEQN GeneralHealthCondition  EverBreastfedOrFedBreastmilk  \\\n",
       "0  93703.0                    NaN                           1.0   \n",
       "1  93704.0                    NaN                           1.0   \n",
       "2  93705.0                   Good                           NaN   \n",
       "3  93706.0              Very good                           NaN   \n",
       "4  93707.0                   Good                           NaN   \n",
       "\n",
       "   AgeStoppedBreastfeedingdays  AgeFirstFedFormuladays  \\\n",
       "0                        273.0                     1.0   \n",
       "1                         60.0                     3.0   \n",
       "2                          NaN                     NaN   \n",
       "3                          NaN                     NaN   \n",
       "4                          NaN                     NaN   \n",
       "\n",
       "   AgeStoppedReceivingFormuladays  AgeStartedOtherFoodbeverage  \\\n",
       "0                           365.0                        152.0   \n",
       "1                           365.0                        126.0   \n",
       "2                             NaN                          NaN   \n",
       "3                             NaN                          NaN   \n",
       "4                             NaN                          NaN   \n",
       "\n",
       "   AgeFirstFedMilkdays TypeOfMilkFirstFedWholeMilk  TypeOfMilkFirstFed2Milk  \\\n",
       "0                365.0       Whole or regular milk                      NaN   \n",
       "1                365.0       Whole or regular milk                      NaN   \n",
       "2                  NaN                         NaN                      NaN   \n",
       "3                  NaN                         NaN                      NaN   \n",
       "4                  NaN                         NaN                      NaN   \n",
       "\n",
       "   ...  DaysSmokedCigsDuringPast30Days  AvgCigarettesdayDuringPast30Days  \\\n",
       "0  ...                             NaN                               NaN   \n",
       "1  ...                             NaN                               NaN   \n",
       "2  ...                             NaN                               NaN   \n",
       "3  ...                             NaN                               NaN   \n",
       "4  ...                             NaN                               NaN   \n",
       "\n",
       "   TriedToQuitSmoking  TimesStoppedSmokingCigarettes  \\\n",
       "0                 NaN                            NaN   \n",
       "1                 NaN                            NaN   \n",
       "2                 NaN                            NaN   \n",
       "3                 NaN                            NaN   \n",
       "4                 NaN                            NaN   \n",
       "\n",
       "  HowLongWereYouAbleToStopSmoking UnitOfMeasureDayweekmonthyear_2_SMQ  \\\n",
       "0                             NaN                                 NaN   \n",
       "1                             NaN                                 NaN   \n",
       "2                             NaN                                 NaN   \n",
       "3                             NaN                                 NaN   \n",
       "4                             NaN                                 NaN   \n",
       "\n",
       "  CurrentSelfreportedHeightInches  CurrentSelfreportedWeightPounds  \\\n",
       "0                             NaN                              NaN   \n",
       "1                             NaN                              NaN   \n",
       "2                            63.0                            165.0   \n",
       "3                            68.0                            145.0   \n",
       "4                             NaN                              NaN   \n",
       "\n",
       "   TriedToLoseWeightInPastYear  TimesLost10LbsOrMoreToLoseWeight  \n",
       "0                          NaN                               NaN  \n",
       "1                          NaN                               NaN  \n",
       "2                          0.0                  11 times or more  \n",
       "3                          0.0                             Never  \n",
       "4                          NaN                               NaN  \n",
       "\n",
       "[5 rows x 198 columns]"
      ]
     },
     "execution_count": 5,
     "metadata": {},
     "output_type": "execute_result"
    }
   ],
   "source": [
    "df = pd.read_csv('./data/nhanes_data_17_18.csv')"
   ]
  },
  {
   "cell_type": "code",
   "execution_count": 25,
   "id": "b11e7e23",
   "metadata": {},
   "outputs": [
    {
     "data": {
      "text/plain": [
       "HowOftenDoYouSnore_na\n",
       "False    5397\n",
       "True     2969\n",
       "Name: count, dtype: int64"
      ]
     },
     "execution_count": 25,
     "metadata": {},
     "output_type": "execute_result"
    }
   ],
   "source": [
    "# variable 1: HowOftenDoYouSnore\n",
    "df['HowOftenDoYouSnore'].value_counts()\n",
    "\n",
    "df['HowOftenDoYouSnore_na'] = df['HowOftenDoYouSnore'].isna()\n",
    "df['HowOftenDoYouSnore_na'].value_counts()"
   ]
  },
  {
   "cell_type": "code",
   "execution_count": 21,
   "id": "0c3b3b34",
   "metadata": {},
   "outputs": [
    {
     "data": {
      "text/plain": [
       "HowOftenFeelOverlySleepyDuringDay_na\n",
       "False    5816\n",
       "True     2550\n",
       "Name: count, dtype: int64"
      ]
     },
     "execution_count": 21,
     "metadata": {},
     "output_type": "execute_result"
    }
   ],
   "source": [
    "# variable 2: HowOftenFeelOverlySleepyDuringDay\n",
    "df['HowOftenFeelOverlySleepyDuringDay'].value_counts()\n",
    "\n",
    "df['HowOftenFeelOverlySleepyDuringDay_na'] = df['HowOftenFeelOverlySleepyDuringDay'].isna() \n",
    "df['HowOftenFeelOverlySleepyDuringDay_na'].value_counts()"
   ]
  },
  {
   "cell_type": "code",
   "execution_count": 27,
   "id": "d8db0ea1",
   "metadata": {},
   "outputs": [
    {
     "data": {
      "text/html": [
       "<div>\n",
       "<style scoped>\n",
       "    .dataframe tbody tr th:only-of-type {\n",
       "        vertical-align: middle;\n",
       "    }\n",
       "\n",
       "    .dataframe tbody tr th {\n",
       "        vertical-align: top;\n",
       "    }\n",
       "\n",
       "    .dataframe thead th {\n",
       "        text-align: right;\n",
       "    }\n",
       "</style>\n",
       "<table border=\"1\" class=\"dataframe\">\n",
       "  <thead>\n",
       "    <tr style=\"text-align: right;\">\n",
       "      <th>HowOftenFeelOverlySleepyDuringDay</th>\n",
       "      <th>Almost always - 16-30 times a month</th>\n",
       "      <th>Never</th>\n",
       "      <th>Often- 5-15 times a month</th>\n",
       "      <th>Rarely - 1 time a month</th>\n",
       "      <th>Sometimes - 2-4 times a month</th>\n",
       "    </tr>\n",
       "    <tr>\n",
       "      <th>HowOftenDoYouSnore</th>\n",
       "      <th></th>\n",
       "      <th></th>\n",
       "      <th></th>\n",
       "      <th></th>\n",
       "      <th></th>\n",
       "    </tr>\n",
       "  </thead>\n",
       "  <tbody>\n",
       "    <tr>\n",
       "      <th>Frequently - 5 or more nights a week</th>\n",
       "      <td>0.408207</td>\n",
       "      <td>0.226097</td>\n",
       "      <td>0.326596</td>\n",
       "      <td>0.241621</td>\n",
       "      <td>0.274780</td>\n",
       "    </tr>\n",
       "    <tr>\n",
       "      <th>Never</th>\n",
       "      <td>0.241901</td>\n",
       "      <td>0.386952</td>\n",
       "      <td>0.259574</td>\n",
       "      <td>0.316446</td>\n",
       "      <td>0.261564</td>\n",
       "    </tr>\n",
       "    <tr>\n",
       "      <th>Occasionally - 3-4 nights a week</th>\n",
       "      <td>0.149028</td>\n",
       "      <td>0.176603</td>\n",
       "      <td>0.180851</td>\n",
       "      <td>0.175370</td>\n",
       "      <td>0.217511</td>\n",
       "    </tr>\n",
       "    <tr>\n",
       "      <th>Rarely - 1-2 nights a week</th>\n",
       "      <td>0.200864</td>\n",
       "      <td>0.210349</td>\n",
       "      <td>0.232979</td>\n",
       "      <td>0.266563</td>\n",
       "      <td>0.246145</td>\n",
       "    </tr>\n",
       "  </tbody>\n",
       "</table>\n",
       "</div>"
      ],
      "text/plain": [
       "HowOftenFeelOverlySleepyDuringDay     Almost always - 16-30 times a month  \\\n",
       "HowOftenDoYouSnore                                                          \n",
       "Frequently - 5 or more nights a week                             0.408207   \n",
       "Never                                                            0.241901   \n",
       "Occasionally - 3-4 nights a week                                 0.149028   \n",
       "Rarely - 1-2 nights a week                                       0.200864   \n",
       "\n",
       "HowOftenFeelOverlySleepyDuringDay        Never  Often- 5-15 times a month  \\\n",
       "HowOftenDoYouSnore                                                          \n",
       "Frequently - 5 or more nights a week  0.226097                   0.326596   \n",
       "Never                                 0.386952                   0.259574   \n",
       "Occasionally - 3-4 nights a week      0.176603                   0.180851   \n",
       "Rarely - 1-2 nights a week            0.210349                   0.232979   \n",
       "\n",
       "HowOftenFeelOverlySleepyDuringDay     Rarely - 1 time a month  \\\n",
       "HowOftenDoYouSnore                                              \n",
       "Frequently - 5 or more nights a week                 0.241621   \n",
       "Never                                                0.316446   \n",
       "Occasionally - 3-4 nights a week                     0.175370   \n",
       "Rarely - 1-2 nights a week                           0.266563   \n",
       "\n",
       "HowOftenFeelOverlySleepyDuringDay     Sometimes - 2-4 times a month  \n",
       "HowOftenDoYouSnore                                                   \n",
       "Frequently - 5 or more nights a week                       0.274780  \n",
       "Never                                                      0.261564  \n",
       "Occasionally - 3-4 nights a week                           0.217511  \n",
       "Rarely - 1-2 nights a week                                 0.246145  "
      ]
     },
     "execution_count": 27,
     "metadata": {},
     "output_type": "execute_result"
    }
   ],
   "source": [
    "pd.crosstab(df['HowOftenDoYouSnore'], df['HowOftenFeelOverlySleepyDuringDay'], normalize='columns')"
   ]
  },
  {
   "cell_type": "markdown",
   "id": "8a4e2e8c",
   "metadata": {},
   "source": [
    "My hypothesis of frequent snorers tending to feel more sleepy throughout the day seems to be... correct? Over 40% of subjects who reported feeling sleepy more often than not also snore 5+ nights per week. Conversely, over 50% of the high-energy group either never snores, or only snores once or twice per week.\n",
    "\n",
    "(Interestingly, the second largest share of the sleepy group belongs to those who claim to never snore.)"
   ]
  },
  {
   "cell_type": "markdown",
   "id": "6cef48e5",
   "metadata": {},
   "source": [
    "2. \n",
    "- Open the NHANES dataset\n",
    "- Find a categorical and numeric variable of interest (there are 198, and short descriptions are given in the `nhanes_meta_17_18.csv` file). Investigate their missing values (you don't have to focus on missing values for this analysis, but always be aware of them)\n",
    "- Make descriptive tables and grouped kernel density plots to represent the variation in your numeric $Y$ conditional on your categorical $X$\n",
    "- Discuss any interesting patterns (or lack of one) that you observe"
   ]
  },
  {
   "cell_type": "code",
   "execution_count": 48,
   "id": "e0290c4a",
   "metadata": {},
   "outputs": [
    {
     "name": "stderr",
     "output_type": "stream",
     "text": [
      "/var/folders/yb/69jvqn_52szfqjzyzmz2vk0h0000gn/T/ipykernel_9024/2196018247.py:5: SettingWithCopyWarning: \n",
      "A value is trying to be set on a copy of a slice from a DataFrame.\n",
      "Try using .loc[row_indexer,col_indexer] = value instead\n",
      "\n",
      "See the caveats in the documentation: https://pandas.pydata.org/pandas-docs/stable/user_guide/indexing.html#returning-a-view-versus-a-copy\n",
      "  df_filtered['DailyMilkDrinkers'] = df_filtered['HowOftenDrankMilkAge512'] == 'Often-once a day or more'\n"
     ]
    },
    {
     "data": {
      "image/png": "[encoded data removed]",
      "text/plain": [
       "<Figure size 640x480 with 1 Axes>"
      ]
     },
     "metadata": {},
     "output_type": "display_data"
    }
   ],
   "source": [
    "df_filtered = df[df['HowOftenDrankMilkAge512'].notna() & df['StandingHeightCm'].notna()]\n",
    "\n",
    "# categorical\n",
    "df_filtered['HowOftenDrankMilkAge512'].value_counts()\n",
    "df_filtered['DailyMilkDrinkers'] = df_filtered['HowOftenDrankMilkAge512'] == 'Often-once a day or more'\n",
    "\n",
    "# numeric\n",
    "plt.boxplot(df_filtered['StandingHeightCm'])\n",
    "plt.show()"
   ]
  },
  {
   "cell_type": "code",
   "execution_count": 50,
   "id": "4683d2be",
   "metadata": {},
   "outputs": [
    {
     "data": {
      "image/png": "[encoded data removed]",
      "text/plain": [
       "<Figure size 640x480 with 1 Axes>"
      ]
     },
     "metadata": {},
     "output_type": "display_data"
    },
    {
     "data": {
      "image/png": "[encoded data removed]",
      "text/plain": [
       "<Figure size 640x480 with 1 Axes>"
      ]
     },
     "metadata": {},
     "output_type": "display_data"
    },
    {
     "data": {
      "text/html": [
       "<div>\n",
       "<style scoped>\n",
       "    .dataframe tbody tr th:only-of-type {\n",
       "        vertical-align: middle;\n",
       "    }\n",
       "\n",
       "    .dataframe tbody tr th {\n",
       "        vertical-align: top;\n",
       "    }\n",
       "\n",
       "    .dataframe thead tr th {\n",
       "        text-align: left;\n",
       "    }\n",
       "\n",
       "    .dataframe thead tr:last-of-type th {\n",
       "        text-align: right;\n",
       "    }\n",
       "</style>\n",
       "<table border=\"1\" class=\"dataframe\">\n",
       "  <thead>\n",
       "    <tr>\n",
       "      <th></th>\n",
       "      <th colspan=\"8\" halign=\"left\">StandingHeightCm</th>\n",
       "    </tr>\n",
       "    <tr>\n",
       "      <th></th>\n",
       "      <th>count</th>\n",
       "      <th>mean</th>\n",
       "      <th>std</th>\n",
       "      <th>min</th>\n",
       "      <th>25%</th>\n",
       "      <th>50%</th>\n",
       "      <th>75%</th>\n",
       "      <th>max</th>\n",
       "    </tr>\n",
       "    <tr>\n",
       "      <th>DailyMilkDrinkers</th>\n",
       "      <th></th>\n",
       "      <th></th>\n",
       "      <th></th>\n",
       "      <th></th>\n",
       "      <th></th>\n",
       "      <th></th>\n",
       "      <th></th>\n",
       "      <th></th>\n",
       "    </tr>\n",
       "  </thead>\n",
       "  <tbody>\n",
       "    <tr>\n",
       "      <th>False</th>\n",
       "      <td>957.0</td>\n",
       "      <td>165.131034</td>\n",
       "      <td>10.029380</td>\n",
       "      <td>143.3</td>\n",
       "      <td>157.8</td>\n",
       "      <td>164.60</td>\n",
       "      <td>172.5</td>\n",
       "      <td>195.8</td>\n",
       "    </tr>\n",
       "    <tr>\n",
       "      <th>True</th>\n",
       "      <td>2798.0</td>\n",
       "      <td>167.565761</td>\n",
       "      <td>10.178507</td>\n",
       "      <td>139.0</td>\n",
       "      <td>159.9</td>\n",
       "      <td>167.15</td>\n",
       "      <td>175.0</td>\n",
       "      <td>197.7</td>\n",
       "    </tr>\n",
       "  </tbody>\n",
       "</table>\n",
       "</div>"
      ],
      "text/plain": [
       "                  StandingHeightCm                                       \\\n",
       "                             count        mean        std    min    25%   \n",
       "DailyMilkDrinkers                                                         \n",
       "False                        957.0  165.131034  10.029380  143.3  157.8   \n",
       "True                        2798.0  167.565761  10.178507  139.0  159.9   \n",
       "\n",
       "                                         \n",
       "                      50%    75%    max  \n",
       "DailyMilkDrinkers                        \n",
       "False              164.60  172.5  195.8  \n",
       "True               167.15  175.0  197.7  "
      ]
     },
     "execution_count": 50,
     "metadata": {},
     "output_type": "execute_result"
    }
   ],
   "source": [
    "conditioner = 'DailyMilkDrinkers'\n",
    "sns.kdeplot(data=df_filtered, x='StandingHeightCm', hue=conditioner, common_norm=False ).set(title='KDE')\n",
    "plt.show()\n",
    "sns.ecdfplot( data=df_filtered, x='StandingHeightCm', hue=conditioner).set(title='ECDF')\n",
    "plt.show()\n",
    "df_filtered.loc[:,['StandingHeightCm', conditioner]].groupby(conditioner).describe()"
   ]
  },
  {
   "cell_type": "markdown",
   "id": "f4efc8f1",
   "metadata": {},
   "source": [
    "Drinking boatloads of milk as a youth appears to have a *slight* positive effect on height, as evidenced by the separation in the KDE and ECFD plots. Of note is the difference in sample size between the milk drinkers (n = 2798) and non-milk drinkers (n = 957)."
   ]
  },
  {
   "cell_type": "markdown",
   "id": "4952e789",
   "metadata": {},
   "source": [
    "3. \n",
    "We showed that the mean and median could be discovered by minimizing various kinds of loss functions; this is what machine learning is. To make a prediction $\\hat{y}(z)$ of $Y$ when $X=z$, minimize the mean squared error:\n",
    "$$\n",
    "MSE(\\hat{y}(z)) = \\frac{1}{N} \\sum_{i=1}^N \\left\\lbrace y_i - \\hat{y}(z) \\right\\rbrace^2 \\frac{1}{h}k\\left(\\frac{z-x_i}{h}\\right)\n",
    "$$\n",
    "Show that the solution to this problem is the LCLS/Naradaya-Watson estimator."
   ]
  },
  {
   "cell_type": "markdown",
   "id": "40d81e58",
   "metadata": {},
   "source": [
    "#### Step 1) Take the derivative wrt $\\hat{y}(z)$ and set it equal to 0.\n",
    "\n",
    "After chain rule-ing what's inside the sum (treating $\\frac{1}{h}k\\left(\\frac{z-x_i}{h}\\right)$ as a constant), you get\n",
    "$$\n",
    "\\frac{1}{N} \\sum_{i=1}^N -2\\left\\lbrace y_i - \\hat{y}(z) \\right\\rbrace \\frac{1}{h}k\\left(\\frac{z-x_i}{h}\\right) = 0.\n",
    "$$\n",
    "\n",
    "Pull out a $\\frac{-2}{h}$ and you're left with\n",
    "$$\n",
    "\\frac{-2}{Nh} \\sum_{i=1}^N \\left\\lbrace y_i - \\hat{y}(z) \\right\\rbrace k\\left(\\frac{z-x_i}{h}\\right) = 0.\n",
    "$$\n"
   ]
  },
  {
   "cell_type": "markdown",
   "id": "946cee0b",
   "metadata": {},
   "source": [
    "#### Step 2) Multiple both sides by $\\frac{-Nh}{2}$ and rearrange.\n",
    "\n",
    "$$\n",
    "\\sum_{i=1}^N \\left\\lbrace y_i - \\hat{y}(z) \\right\\rbrace k\\left(\\frac{z-x_i}{h}\\right) = 0\n",
    "$$\n",
    "\n",
    "$$\n",
    "\\sum_{i=1}^N y_ik\\left(\\frac{z-x_i}{h}\\right) - \\hat{y}(z)k\\left(\\frac{z-x_i}{h}\\right) = 0\n",
    "$$\n",
    "\n",
    "$$\n",
    "\\sum_{i=1}^N y_ik\\left(\\frac{z-x_i}{h}\\right) - \\sum_{i=1}^N \\hat{y}(z)k\\left(\\frac{z-x_i}{h}\\right) = 0\n",
    "$$\n"
   ]
  },
  {
   "cell_type": "markdown",
   "id": "fe65c356",
   "metadata": {},
   "source": [
    "#### Step 3) Solve for $\\hat{y}(z)$."
   ]
  },
  {
   "cell_type": "markdown",
   "id": "f248e672",
   "metadata": {},
   "source": [
    "$$\n",
    "\\sum_{i=1}^N \\hat{y}(z)k\\left(\\frac{z-x_i}{h}\\right) = \\sum_{i=1}^N y_ik\\left(\\frac{z-x_i}{h}\\right)\n",
    "$$\n",
    "\n",
    "$$\n",
    "\\hat{y}(z) = \\frac{\\sum_{i=1}^N y_ik\\left(\\frac{z-x_i}{h}\\right)}{\\sum_{i=1}^N k\\left(\\frac{z-x_i}{h}\\right)}\n",
    "$$\n"
   ]
  },
  {
   "cell_type": "markdown",
   "id": "dcfe975f",
   "metadata": {},
   "source": [
    "And there we have it, folks. Minimizing the $MSE$ at fixed $X=z$ gives the LCLS estimator."
   ]
  },
  {
   "cell_type": "markdown",
   "id": "98884d76",
   "metadata": {},
   "source": [
    "4. \n",
    "- Write a class or set of functions that implement the LCLS/Naradaya-Watson estimator, using the Silverman plug-in estimate for the conditioning variable $X$ as the bandwidth.\n",
    "- From one of the course data sets, find two numeric variables of interest, analyze their relationship with the the LCLS/Naradaya-Watson estimator, and discuss your results."
   ]
  },
  {
   "cell_type": "markdown",
   "id": "0534c110",
   "metadata": {},
   "source": [
    "5. \n",
    "- In any of the available data sets, investigate the relationships between pairs of variables $(X,Y)$ with a scatterplot and CEF (for example, price on area)\n",
    "- Is this relationship plausibly causal, or are there missing variables that might explain at least part of the relationship between your variables? These can be \"conceptual\" rather than \"practical\"; for example, 'talent' or 'grit' probably explain education outcomes, but are almost impossible to measure. We are asking whether there are hypothetical **threats to causal identification** of the effect of $X$ on $Y$.\n",
    "- Explain how, regardless of the threat to causal identification, you can still use your model to predict $Y$ given $X$, as long as you don't intervene in the system to control the outcome"
   ]
  }
 ],
 "metadata": {
  "kernelspec": {
   "display_name": "ds6001",
   "language": "python",
   "name": "python3"
  },
  "language_info": {
   "codemirror_mode": {
    "name": "ipython",
    "version": 3
   },
   "file_extension": ".py",
   "mimetype": "text/x-python",
   "name": "python",
   "nbconvert_exporter": "python",
   "pygments_lexer": "ipython3",
   "version": "3.13.5"
  }
 },
 "nbformat": 4,
 "nbformat_minor": 5
}
